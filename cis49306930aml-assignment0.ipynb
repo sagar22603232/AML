{
 "cells": [
  {
   "cell_type": "markdown",
   "metadata": {},
   "source": [
    "# Assignment 0: Setting Up Your Environment!"
   ]
  },
  {
   "cell_type": "markdown",
   "metadata": {},
   "source": [
    "## [Task 1] Check that the cell below runs with no errors and that the version of Python is at least 3.6 and the version of Tensorflow is at least 2.0!"
   ]
  },
  {
   "cell_type": "code",
   "execution_count": 1,
   "metadata": {},
   "outputs": [
    {
     "name": "stdout",
     "output_type": "stream",
     "text": [
      "### Python version: 3.8.12 (default, Oct 12 2021, 06:23:56) \n",
      "[Clang 10.0.0 ]\n",
      "### Numpy version: 1.19.5\n",
      "### Scipy version: 1.7.3\n",
      "### Pandas version: 1.3.5\n",
      "### Scikit-learn version: 1.0.1\n",
      "### Matplotlib version: 3.5.0\n",
      "### TensorFlow version: 2.4.0\n",
      "### Keras version: 2.4.0\n",
      "------------\n"
     ]
    }
   ],
   "source": [
    "# Load packages we need\n",
    "import sys\n",
    "import os\n",
    "\n",
    "import numpy as np\n",
    "import scipy as sp\n",
    "import pandas as pd\n",
    "\n",
    "import sklearn\n",
    "\n",
    "import matplotlib \n",
    "\n",
    "import tensorflow as tf\n",
    "\n",
    "# Let's check our software versions\n",
    "print('### Python version: ' + sys.version)\n",
    "print('### Numpy version: ' + np.__version__)\n",
    "print('### Scipy version: ' + sp.__version__)\n",
    "print('### Pandas version: ' + pd.__version__)\n",
    "print('### Scikit-learn version: ' + sklearn.__version__)\n",
    "print('### Matplotlib version: ' + matplotlib.__version__)\n",
    "print('### TensorFlow version: ' + tf.__version__)\n",
    "print('### Keras version: ' + tf.keras.__version__)\n",
    "print('------------')"
   ]
  },
  {
   "cell_type": "markdown",
   "metadata": {},
   "source": [
    "### [Task 1] (10 Points) Paste in the cell below the output of the cell above (with the library versions)!\n"
   ]
  },
  {
   "cell_type": "code",
   "execution_count": null,
   "metadata": {},
   "outputs": [],
   "source": [
    "### Python version: 3.8.12 (default, Oct 12 2021, 06:23:56) \n",
    "[Clang 10.0.0 ]\n",
    "### Numpy version: 1.19.5\n",
    "### Scipy version: 1.7.3\n",
    "### Pandas version: 1.3.5\n",
    "### Scikit-learn version: 1.0.1\n",
    "### Matplotlib version: 3.5.0\n",
    "### TensorFlow version: 2.4.0\n",
    "### Keras version: 2.4.0\n",
    "------------"
   ]
  },
  {
   "cell_type": "markdown",
   "metadata": {},
   "source": [
    "# [Task 2] (15 Points) Tell us a little bit about yourself and what you hope to learn in this course"
   ]
  },
  {
   "cell_type": "markdown",
   "metadata": {},
   "source": [
    "## [Task 2a] (5 Points) Write your name and email address"
   ]
  },
  {
   "cell_type": "code",
   "execution_count": null,
   "metadata": {},
   "outputs": [],
   "source": [
    "# Name:Sagar Piyush Parikh\n",
    "# Email: s.parikh@ufl.edu"
   ]
  },
  {
   "cell_type": "markdown",
   "metadata": {},
   "source": [
    "## [Task 2b] (5 Points) Write a brief description of your academic history (2-3 sentences is fine)"
   ]
  },
  {
   "cell_type": "code",
   "execution_count": null,
   "metadata": {},
   "outputs": [],
   "source": [
    "# Write your answer here:\n",
    "#I am currently pursuing my master's in Computer Science at the University of Florida. I have done my \n",
    "# my undergrade from K.J.Somaiya College of Engineering in Mumbai, India wit majors in Information Technology."
   ]
  },
  {
   "cell_type": "markdown",
   "metadata": {},
   "source": [
    "## [Task 2c] (5 Points) Briefly describe what you hope to learn in this course (a few sentences is fine)"
   ]
  },
  {
   "cell_type": "code",
   "execution_count": null,
   "metadata": {},
   "outputs": [],
   "source": [
    "# Write your answer here:\n",
    "#I hope to learn what exactly is machine learning, that are training data, how we can use machine learning in \n",
    "# problem solving. How to create a model and how to use it with real world data. I also wants to learn python as\n",
    "# I had learned basics of python during my last job, but want to explore more in this this language. Thus \n",
    "#I have decided to take Applied Machine Learning course.\n"
   ]
  },
  {
   "cell_type": "code",
   "execution_count": null,
   "metadata": {},
   "outputs": [],
   "source": []
  },
  {
   "cell_type": "code",
   "execution_count": null,
   "metadata": {},
   "outputs": [],
   "source": []
  }
 ],
 "metadata": {
  "kernelspec": {
   "display_name": "Python 3.8 (tensorflow)",
   "language": "python",
   "name": "tensorflow"
  },
  "language_info": {
   "codemirror_mode": {
    "name": "ipython",
    "version": 3
   },
   "file_extension": ".py",
   "mimetype": "text/x-python",
   "name": "python",
   "nbconvert_exporter": "python",
   "pygments_lexer": "ipython3",
   "version": "3.8.12"
  }
 },
 "nbformat": 4,
 "nbformat_minor": 2
}
